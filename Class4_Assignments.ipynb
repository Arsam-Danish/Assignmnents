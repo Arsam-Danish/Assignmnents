{
 "cells": [
  {
   "cell_type": "markdown",
   "metadata": {},
   "source": [
    "# Student Name : Arsam\n",
    "# Roll # PIAIC72676"
   ]
  },
  {
   "cell_type": "markdown",
   "metadata": {},
   "source": [
    "# Assignment 1"
   ]
  },
  {
   "cell_type": "markdown",
   "metadata": {},
   "source": [
    "# Code for Storing Data in Dictionary "
   ]
  },
  {
   "cell_type": "code",
   "execution_count": 1,
   "metadata": {},
   "outputs": [
    {
     "name": "stdout",
     "output_type": "stream",
     "text": [
      "Enter the number of employees for which you want to store data: 3\n",
      "\n",
      "Enter data for employee_1\n",
      "\n",
      "Enter name: Hamza Ali\n",
      "Enter age: 25\n",
      "Enter work: A.I\n",
      "Enter Skills separate by , : Python,Tensorflow,Cloud\n",
      "Enter title of degree: BS\n",
      "Enter major of degree: Computer Science\n",
      "Enter date of completion: June 2019\n",
      "Enter salary: 259999\n",
      "\n",
      "Enter data for employee_2\n",
      "\n",
      "Enter name: Farooq Aziz\n",
      "Enter age: 27\n",
      "Enter work: Cloud Native\n",
      "Enter Skills separate by , : Ubuntu,Docker,Kubernetes\n",
      "Enter title of degree: MS\n",
      "Enter major of degree: Software Engineer\n",
      "Enter date of completion: May 2018\n",
      "Enter salary: 200000\n",
      "\n",
      "Enter data for employee_3\n",
      "\n",
      "Enter name: Abu Bakr\n",
      "Enter age: 30\n",
      "Enter work: Blockchain\n",
      "Enter Skills separate by , : Python,Cryptography,Ethereum\n",
      "Enter title of degree: BS\n",
      "Enter major of degree: Computer Science\n",
      "Enter date of completion: May 2019\n",
      "Enter salary: 300000\n"
     ]
    }
   ],
   "source": [
    "no_of_employees = int(input(\"Enter the number of employees for which you want to store data: \"))\n",
    "employee_data = []\n",
    "for i in range(0,no_of_employees):\n",
    "    print(\"\\nEnter data for employee_\" + str(i+1),end='\\n\\n')\n",
    "    employee_data_dict = {}\n",
    "    employee_data_dict[\"name\"] = input(\"Enter name: \")\n",
    "    employee_data_dict[\"age\"] = int(input(\"Enter age: \"))\n",
    "    employee_data_dict[\"work\"] = input(\"Enter work: \")\n",
    "    employee_data_dict[\"skills\"] = input(\"Enter Skills separate by , : \").split(\",\")\n",
    "    employee_degree = {}\n",
    "    employee_degree[\"title\"] = input(\"Enter title of degree: \")\n",
    "    employee_degree[\"major\"] = input(\"Enter major of degree: \")\n",
    "    employee_degree[\"completionDate\"] = input(\"Enter date of completion: \")\n",
    "    employee_data_dict[\"degree\"] = employee_degree\n",
    "    employee_data_dict[\"salary\"] = int(input(\"Enter salary: \"))\n",
    "    employee_data.append(employee_data_dict)"
   ]
  },
  {
   "cell_type": "code",
   "execution_count": 2,
   "metadata": {},
   "outputs": [
    {
     "data": {
      "text/plain": [
       "[{'name': 'Hamza Ali',\n",
       "  'age': 25,\n",
       "  'work': 'A.I',\n",
       "  'skills': ['Python', 'Tensorflow', 'Cloud'],\n",
       "  'degree': {'title': 'BS',\n",
       "   'major': 'Computer Science',\n",
       "   'completionDate': 'June 2019'},\n",
       "  'salary': 259999},\n",
       " {'name': 'Farooq Aziz',\n",
       "  'age': 27,\n",
       "  'work': 'Cloud Native',\n",
       "  'skills': ['Ubuntu', 'Docker', 'Kubernetes'],\n",
       "  'degree': {'title': 'MS',\n",
       "   'major': 'Software Engineer',\n",
       "   'completionDate': 'May 2018'},\n",
       "  'salary': 200000},\n",
       " {'name': 'Abu Bakr',\n",
       "  'age': 30,\n",
       "  'work': 'Blockchain',\n",
       "  'skills': ['Python', 'Cryptography', 'Ethereum'],\n",
       "  'degree': {'title': 'BS',\n",
       "   'major': 'Computer Science',\n",
       "   'completionDate': 'May 2019'},\n",
       "  'salary': 300000}]"
      ]
     },
     "execution_count": 2,
     "metadata": {},
     "output_type": "execute_result"
    }
   ],
   "source": [
    "employee_data"
   ]
  },
  {
   "cell_type": "markdown",
   "metadata": {},
   "source": [
    "# Assignment 2"
   ]
  },
  {
   "cell_type": "markdown",
   "metadata": {},
   "source": [
    "# Print Tables "
   ]
  },
  {
   "cell_type": "code",
   "execution_count": 3,
   "metadata": {},
   "outputs": [
    {
     "name": "stdout",
     "output_type": "stream",
     "text": [
      "Enter the first table you want to print: 5\n",
      "Enter the last table you want to print: 10\n",
      "\n",
      "\n",
      "5 x 1 = 5\n",
      "5 x 2 = 10\n",
      "5 x 3 = 15\n",
      "5 x 4 = 20\n",
      "5 x 5 = 25\n",
      "5 x 6 = 30\n",
      "5 x 7 = 35\n",
      "5 x 8 = 40\n",
      "5 x 9 = 45\n",
      "5 x 10 = 50\n",
      "\n",
      "\n",
      "6 x 1 = 6\n",
      "6 x 2 = 12\n",
      "6 x 3 = 18\n",
      "6 x 4 = 24\n",
      "6 x 5 = 30\n",
      "6 x 6 = 36\n",
      "6 x 7 = 42\n",
      "6 x 8 = 48\n",
      "6 x 9 = 54\n",
      "6 x 10 = 60\n",
      "\n",
      "\n",
      "7 x 1 = 7\n",
      "7 x 2 = 14\n",
      "7 x 3 = 21\n",
      "7 x 4 = 28\n",
      "7 x 5 = 35\n",
      "7 x 6 = 42\n",
      "7 x 7 = 49\n",
      "7 x 8 = 56\n",
      "7 x 9 = 63\n",
      "7 x 10 = 70\n",
      "\n",
      "\n",
      "8 x 1 = 8\n",
      "8 x 2 = 16\n",
      "8 x 3 = 24\n",
      "8 x 4 = 32\n",
      "8 x 5 = 40\n",
      "8 x 6 = 48\n",
      "8 x 7 = 56\n",
      "8 x 8 = 64\n",
      "8 x 9 = 72\n",
      "8 x 10 = 80\n",
      "\n",
      "\n",
      "9 x 1 = 9\n",
      "9 x 2 = 18\n",
      "9 x 3 = 27\n",
      "9 x 4 = 36\n",
      "9 x 5 = 45\n",
      "9 x 6 = 54\n",
      "9 x 7 = 63\n",
      "9 x 8 = 72\n",
      "9 x 9 = 81\n",
      "9 x 10 = 90\n",
      "\n",
      "\n",
      "10 x 1 = 10\n",
      "10 x 2 = 20\n",
      "10 x 3 = 30\n",
      "10 x 4 = 40\n",
      "10 x 5 = 50\n",
      "10 x 6 = 60\n",
      "10 x 7 = 70\n",
      "10 x 8 = 80\n",
      "10 x 9 = 90\n",
      "10 x 10 = 100\n",
      "\n",
      "\n"
     ]
    }
   ],
   "source": [
    "first_table = int(input(\"Enter the first table you want to print: \"))\n",
    "last_table = int(input(\"Enter the last table you want to print: \"))\n",
    "print('\\n')\n",
    "for i in range(first_table, last_table+1):\n",
    "    for j in range(1, 11):\n",
    "        print(\"{} x {} = {}\".format(i,j,i*j))\n",
    "    print('\\n')"
   ]
  },
  {
   "cell_type": "code",
   "execution_count": 4,
   "metadata": {},
   "outputs": [
    {
     "name": "stdout",
     "output_type": "stream",
     "text": [
      "Enter the first table you want to print: 5\n",
      "Enter the last table you want to print: 10\n",
      "\n",
      "\n",
      "5 x 1 = 5\t6 x 1 = 6\t7 x 1 = 7\t8 x 1 = 8\t9 x 1 = 9\t10 x 1 = 10\t\n",
      "\n",
      "5 x 2 = 10\t6 x 2 = 12\t7 x 2 = 14\t8 x 2 = 16\t9 x 2 = 18\t10 x 2 = 20\t\n",
      "\n",
      "5 x 3 = 15\t6 x 3 = 18\t7 x 3 = 21\t8 x 3 = 24\t9 x 3 = 27\t10 x 3 = 30\t\n",
      "\n",
      "5 x 4 = 20\t6 x 4 = 24\t7 x 4 = 28\t8 x 4 = 32\t9 x 4 = 36\t10 x 4 = 40\t\n",
      "\n",
      "5 x 5 = 25\t6 x 5 = 30\t7 x 5 = 35\t8 x 5 = 40\t9 x 5 = 45\t10 x 5 = 50\t\n",
      "\n",
      "5 x 6 = 30\t6 x 6 = 36\t7 x 6 = 42\t8 x 6 = 48\t9 x 6 = 54\t10 x 6 = 60\t\n",
      "\n",
      "5 x 7 = 35\t6 x 7 = 42\t7 x 7 = 49\t8 x 7 = 56\t9 x 7 = 63\t10 x 7 = 70\t\n",
      "\n",
      "5 x 8 = 40\t6 x 8 = 48\t7 x 8 = 56\t8 x 8 = 64\t9 x 8 = 72\t10 x 8 = 80\t\n",
      "\n",
      "5 x 9 = 45\t6 x 9 = 54\t7 x 9 = 63\t8 x 9 = 72\t9 x 9 = 81\t10 x 9 = 90\t\n",
      "\n",
      "5 x 10 = 50\t6 x 10 = 60\t7 x 10 = 70\t8 x 10 = 80\t9 x 10 = 90\t10 x 10 = 100\t\n",
      "\n"
     ]
    }
   ],
   "source": [
    "first_table = int(input(\"Enter the first table you want to print: \"))\n",
    "last_table = int(input(\"Enter the last table you want to print: \"))\n",
    "print('\\n')\n",
    "for j in range(1, 11):\n",
    "    for i in range(first_table, last_table+1):\n",
    "        print(\"{} x {} = {}\".format(i,j,i*j), end='\\t')\n",
    "    print('\\n')"
   ]
  }
 ],
 "metadata": {
  "kernelspec": {
   "display_name": "Python 3",
   "language": "python",
   "name": "python3"
  },
  "language_info": {
   "codemirror_mode": {
    "name": "ipython",
    "version": 3
   },
   "file_extension": ".py",
   "mimetype": "text/x-python",
   "name": "python",
   "nbconvert_exporter": "python",
   "pygments_lexer": "ipython3",
   "version": "3.7.4"
  }
 },
 "nbformat": 4,
 "nbformat_minor": 2
}
