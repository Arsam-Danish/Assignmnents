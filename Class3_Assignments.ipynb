{
 "cells": [
  {
   "cell_type": "markdown",
   "metadata": {},
   "source": [
    "# Student Name : Arsam\n",
    "# Roll # PIAIC72676"
   ]
  },
  {
   "cell_type": "markdown",
   "metadata": {},
   "source": [
    "# Code for List Operations"
   ]
  },
  {
   "cell_type": "markdown",
   "metadata": {},
   "source": [
    "# 1. Indexing"
   ]
  },
  {
   "cell_type": "code",
   "execution_count": 1,
   "metadata": {},
   "outputs": [],
   "source": [
    "employee_data = [\"Ali\", 125000, \"Google\", 5]"
   ]
  },
  {
   "cell_type": "code",
   "execution_count": 2,
   "metadata": {},
   "outputs": [
    {
     "name": "stdout",
     "output_type": "stream",
     "text": [
      "Ali is working in Google for 5 and his salary is 125000\n"
     ]
    }
   ],
   "source": [
    "print(\"{pName} is working in {pCompany} for {pHours} and his salary is {pSalary}\".format(pName=employee_data[0],pCompany=employee_data[2],pHours=employee_data[3],pSalary=employee_data[1]))"
   ]
  },
  {
   "cell_type": "code",
   "execution_count": 3,
   "metadata": {},
   "outputs": [],
   "source": [
    "studentData = [\"Ahmad\",\"Bilal\",\"Goverment College University\",\"Computer Science\",\"BS\",50000,\"28 January 2020\",\"05 February 2020\"]"
   ]
  },
  {
   "cell_type": "code",
   "execution_count": 5,
   "metadata": {},
   "outputs": [
    {
     "name": "stdout",
     "output_type": "stream",
     "text": [
      "Hello Ahmad Bilal,\n",
      "Your Application is accepted for admission in \"BS Computer Science\" in Goverment College University.\n",
      "You have to submit fee 50000 before 28 January 2020.\n",
      "Your classes will start from 05 February 2020.\n",
      "Thanks.\n"
     ]
    }
   ],
   "source": [
    "print(\"\"\"Hello {pFirstName} {pSecondName},\n",
    "Your Application is accepted for admission in \\\"{pProgram} {pSubject}\\\" in {pUniversity}.\n",
    "You have to submit fee {pFee} before {pDueDate}.\n",
    "Your classes will start from {pFirstDay}.\n",
    "Thanks.\"\"\".format(pFirstName=studentData[0],pSecondName=studentData[1],pProgram=studentData[4],pSubject=studentData[3],pUniversity=studentData[2],pFee=studentData[5],pDueDate=studentData[6],pFirstDay=studentData[7]))"
   ]
  },
  {
   "cell_type": "markdown",
   "metadata": {},
   "source": [
    "# 2. Slicing"
   ]
  },
  {
   "cell_type": "code",
   "execution_count": 6,
   "metadata": {},
   "outputs": [],
   "source": [
    "cities = [\"Faisalabad\", \"Lahore\", \"Islamabad\", \"Peshawar\", \"Quetta\", \"Sahiwal\", \"Rawalpindi\", \"Sialkot\"]"
   ]
  },
  {
   "cell_type": "code",
   "execution_count": 7,
   "metadata": {},
   "outputs": [
    {
     "data": {
      "text/plain": [
       "['Faisalabad', 'Lahore', 'Islamabad', 'Peshawar']"
      ]
     },
     "execution_count": 7,
     "metadata": {},
     "output_type": "execute_result"
    }
   ],
   "source": [
    "cities[:4]"
   ]
  },
  {
   "cell_type": "code",
   "execution_count": 8,
   "metadata": {},
   "outputs": [
    {
     "data": {
      "text/plain": [
       "['Islamabad', 'Peshawar', 'Quetta', 'Sahiwal']"
      ]
     },
     "execution_count": 8,
     "metadata": {},
     "output_type": "execute_result"
    }
   ],
   "source": [
    "cities[2:6]"
   ]
  },
  {
   "cell_type": "code",
   "execution_count": 9,
   "metadata": {},
   "outputs": [
    {
     "data": {
      "text/plain": [
       "['Sahiwal', 'Rawalpindi', 'Sialkot']"
      ]
     },
     "execution_count": 9,
     "metadata": {},
     "output_type": "execute_result"
    }
   ],
   "source": [
    "cities[5:]"
   ]
  },
  {
   "cell_type": "code",
   "execution_count": 10,
   "metadata": {},
   "outputs": [
    {
     "data": {
      "text/plain": [
       "['Quetta', 'Sahiwal', 'Rawalpindi']"
      ]
     },
     "execution_count": 10,
     "metadata": {},
     "output_type": "execute_result"
    }
   ],
   "source": [
    "cities[-4:-1]"
   ]
  },
  {
   "cell_type": "code",
   "execution_count": 11,
   "metadata": {},
   "outputs": [
    {
     "data": {
      "text/plain": [
       "['Peshawar', 'Quetta', 'Sahiwal', 'Rawalpindi', 'Sialkot']"
      ]
     },
     "execution_count": 11,
     "metadata": {},
     "output_type": "execute_result"
    }
   ],
   "source": [
    "cities[-5:]"
   ]
  },
  {
   "cell_type": "markdown",
   "metadata": {},
   "source": [
    "# Update Lists"
   ]
  },
  {
   "cell_type": "code",
   "execution_count": 12,
   "metadata": {},
   "outputs": [],
   "source": [
    "studentData = [\"Ali Raza\", 22, 91.24, \"Computer Science\", 5, \"University of Agriculture\"]"
   ]
  },
  {
   "cell_type": "code",
   "execution_count": 13,
   "metadata": {},
   "outputs": [],
   "source": [
    "studentData.append(\"20 February 2019\")"
   ]
  },
  {
   "cell_type": "code",
   "execution_count": 14,
   "metadata": {},
   "outputs": [],
   "source": [
    "studentData.append(8)"
   ]
  },
  {
   "cell_type": "code",
   "execution_count": 15,
   "metadata": {},
   "outputs": [
    {
     "data": {
      "text/plain": [
       "['Ali Raza',\n",
       " 22,\n",
       " 91.24,\n",
       " 'Computer Science',\n",
       " 5,\n",
       " 'University of Agriculture',\n",
       " '20 February 2019',\n",
       " 8]"
      ]
     },
     "execution_count": 15,
     "metadata": {},
     "output_type": "execute_result"
    }
   ],
   "source": [
    "studentData"
   ]
  },
  {
   "cell_type": "code",
   "execution_count": 16,
   "metadata": {},
   "outputs": [],
   "source": [
    "studentData.insert(4, 25000)"
   ]
  },
  {
   "cell_type": "code",
   "execution_count": 17,
   "metadata": {},
   "outputs": [
    {
     "data": {
      "text/plain": [
       "['Ali Raza',\n",
       " 22,\n",
       " 91.24,\n",
       " 'Computer Science',\n",
       " 25000,\n",
       " 5,\n",
       " 'University of Agriculture',\n",
       " '20 February 2019',\n",
       " 8]"
      ]
     },
     "execution_count": 17,
     "metadata": {},
     "output_type": "execute_result"
    }
   ],
   "source": [
    "studentData"
   ]
  },
  {
   "cell_type": "code",
   "execution_count": 18,
   "metadata": {},
   "outputs": [],
   "source": [
    "studentData.insert(1,\"M. Iqbal\")"
   ]
  },
  {
   "cell_type": "code",
   "execution_count": 19,
   "metadata": {},
   "outputs": [
    {
     "data": {
      "text/plain": [
       "['Ali Raza',\n",
       " 'M. Iqbal',\n",
       " 22,\n",
       " 91.24,\n",
       " 'Computer Science',\n",
       " 25000,\n",
       " 5,\n",
       " 'University of Agriculture',\n",
       " '20 February 2019',\n",
       " 8]"
      ]
     },
     "execution_count": 19,
     "metadata": {},
     "output_type": "execute_result"
    }
   ],
   "source": [
    "studentData"
   ]
  },
  {
   "cell_type": "code",
   "execution_count": 20,
   "metadata": {},
   "outputs": [],
   "source": [
    "studentData[0] = \"Zohaib Ali\"\n",
    "studentData[6] = 7"
   ]
  },
  {
   "cell_type": "code",
   "execution_count": 21,
   "metadata": {},
   "outputs": [
    {
     "data": {
      "text/plain": [
       "['Zohaib Ali',\n",
       " 'M. Iqbal',\n",
       " 22,\n",
       " 91.24,\n",
       " 'Computer Science',\n",
       " 25000,\n",
       " 7,\n",
       " 'University of Agriculture',\n",
       " '20 February 2019',\n",
       " 8]"
      ]
     },
     "execution_count": 21,
     "metadata": {},
     "output_type": "execute_result"
    }
   ],
   "source": [
    "studentData"
   ]
  },
  {
   "cell_type": "code",
   "execution_count": 22,
   "metadata": {},
   "outputs": [],
   "source": [
    "studentData.remove(\"Computer Science\")\n",
    "studentData.remove(91.24)"
   ]
  },
  {
   "cell_type": "code",
   "execution_count": 23,
   "metadata": {},
   "outputs": [
    {
     "data": {
      "text/plain": [
       "['Zohaib Ali',\n",
       " 'M. Iqbal',\n",
       " 22,\n",
       " 25000,\n",
       " 7,\n",
       " 'University of Agriculture',\n",
       " '20 February 2019',\n",
       " 8]"
      ]
     },
     "execution_count": 23,
     "metadata": {},
     "output_type": "execute_result"
    }
   ],
   "source": [
    "studentData"
   ]
  },
  {
   "cell_type": "code",
   "execution_count": 24,
   "metadata": {},
   "outputs": [],
   "source": [
    "a = studentData.pop(-1)\n",
    "b = studentData.pop(3)"
   ]
  },
  {
   "cell_type": "code",
   "execution_count": 25,
   "metadata": {
    "scrolled": true
   },
   "outputs": [
    {
     "data": {
      "text/plain": [
       "['Zohaib Ali',\n",
       " 'M. Iqbal',\n",
       " 22,\n",
       " 7,\n",
       " 'University of Agriculture',\n",
       " '20 February 2019']"
      ]
     },
     "execution_count": 25,
     "metadata": {},
     "output_type": "execute_result"
    }
   ],
   "source": [
    "studentData"
   ]
  },
  {
   "cell_type": "markdown",
   "metadata": {},
   "source": [
    "# 4. Multidimensional List Tasks"
   ]
  },
  {
   "cell_type": "code",
   "execution_count": 26,
   "metadata": {},
   "outputs": [],
   "source": [
    "employeeData = [[\"Ali\",35000,\"Software Engineer\"],\n",
    "                [\"Talha\",55000,\"Product Manager\"],\n",
    "                [\"Nasir\",79000,\"Computer Engineer\"],\n",
    "                [\"Khalid\",44000,\"DBA\"]]"
   ]
  },
  {
   "cell_type": "code",
   "execution_count": 29,
   "metadata": {},
   "outputs": [
    {
     "name": "stdout",
     "output_type": "stream",
     "text": [
      "Talha\n",
      "Nasir\n",
      "Total Salary is  213000\n"
     ]
    }
   ],
   "source": [
    "tot_salary = 0\n",
    "for emp in employeeData:\n",
    "    if emp[1] > 50000:\n",
    "        print(emp[0])\n",
    "    tot_salary += emp[1]\n",
    "print(\"Total Salary is \",tot_salary)"
   ]
  },
  {
   "cell_type": "code",
   "execution_count": 30,
   "metadata": {},
   "outputs": [],
   "source": [
    "employeeData[2][1] = 90000\n",
    "employeeData[2][2]= \"Product Manager\"\n",
    "employeeData[3][1] = 50000"
   ]
  },
  {
   "cell_type": "code",
   "execution_count": 31,
   "metadata": {},
   "outputs": [
    {
     "data": {
      "text/plain": [
       "[['Ali', 35000, 'Software Engineer'],\n",
       " ['Talha', 55000, 'Product Manager'],\n",
       " ['Nasir', 90000, 'Product Manager'],\n",
       " ['Khalid', 50000, 'DBA']]"
      ]
     },
     "execution_count": 31,
     "metadata": {},
     "output_type": "execute_result"
    }
   ],
   "source": [
    "employeeData"
   ]
  },
  {
   "cell_type": "markdown",
   "metadata": {},
   "source": [
    "# 5. Login User"
   ]
  },
  {
   "cell_type": "code",
   "execution_count": 32,
   "metadata": {},
   "outputs": [],
   "source": [
    "username = \"faizan1214\"\n",
    "password = \"qwerty\"\n",
    "emailVerified = False"
   ]
  },
  {
   "cell_type": "code",
   "execution_count": 34,
   "metadata": {},
   "outputs": [
    {
     "name": "stdout",
     "output_type": "stream",
     "text": [
      "Email not verified\n"
     ]
    }
   ],
   "source": [
    "if username == \"faizan1214\" and password == \"qwerty\" and emailVerified == True:\n",
    "    print(\"Login Succeed\")\n",
    "else:\n",
    "    print(\"Email not verified\")"
   ]
  },
  {
   "cell_type": "code",
   "execution_count": 35,
   "metadata": {},
   "outputs": [],
   "source": [
    "username = \"faizan1214\"\n",
    "password = \"qwerty\"\n",
    "emailVerified = True"
   ]
  },
  {
   "cell_type": "code",
   "execution_count": 36,
   "metadata": {},
   "outputs": [
    {
     "name": "stdout",
     "output_type": "stream",
     "text": [
      "Login Succeed\n"
     ]
    }
   ],
   "source": [
    "if username == \"faizan1214\" and password == \"qwerty\" and emailVerified == True:\n",
    "    print(\"Login Succeed\")\n",
    "else:\n",
    "    print(\"Email not verified\")"
   ]
  }
 ],
 "metadata": {
  "kernelspec": {
   "display_name": "Python 3",
   "language": "python",
   "name": "python3"
  },
  "language_info": {
   "codemirror_mode": {
    "name": "ipython",
    "version": 3
   },
   "file_extension": ".py",
   "mimetype": "text/x-python",
   "name": "python",
   "nbconvert_exporter": "python",
   "pygments_lexer": "ipython3",
   "version": "3.7.4"
  }
 },
 "nbformat": 4,
 "nbformat_minor": 2
}
