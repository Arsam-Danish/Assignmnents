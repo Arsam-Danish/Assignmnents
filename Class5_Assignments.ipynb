{
 "cells": [
  {
   "cell_type": "markdown",
   "metadata": {},
   "source": [
    "# Student Name : Arsam\n",
    "## Roll # PIAIC72676"
   ]
  },
  {
   "cell_type": "markdown",
   "metadata": {},
   "source": [
    "## 1. Calculate Area of Circle "
   ]
  },
  {
   "cell_type": "code",
   "execution_count": 28,
   "metadata": {},
   "outputs": [],
   "source": [
    "def circleArea(r, pi = 3.14):  # Here pi is a default argument\n",
    "    return pi*r*r   # formula of area of circle"
   ]
  },
  {
   "cell_type": "code",
   "execution_count": 3,
   "metadata": {},
   "outputs": [
    {
     "data": {
      "text/plain": [
       "237.66659999999996"
      ]
     },
     "execution_count": 3,
     "metadata": {},
     "output_type": "execute_result"
    }
   ],
   "source": [
    "circleArea(8.7)"
   ]
  },
  {
   "cell_type": "code",
   "execution_count": 4,
   "metadata": {},
   "outputs": [
    {
     "data": {
      "text/plain": [
       "265.76959999999997"
      ]
     },
     "execution_count": 4,
     "metadata": {},
     "output_type": "execute_result"
    }
   ],
   "source": [
    "circleArea(9.2)"
   ]
  },
  {
   "cell_type": "code",
   "execution_count": 5,
   "metadata": {},
   "outputs": [
    {
     "data": {
      "text/plain": [
       "806.8572260000001"
      ]
     },
     "execution_count": 5,
     "metadata": {},
     "output_type": "execute_result"
    }
   ],
   "source": [
    "circleArea(16.03)"
   ]
  },
  {
   "cell_type": "markdown",
   "metadata": {},
   "source": [
    "## 2. Function to check if a value exists in a list"
   ]
  },
  {
   "cell_type": "code",
   "execution_count": 6,
   "metadata": {},
   "outputs": [],
   "source": [
    "def checkVal(string, lst):\n",
    "    for i in lst:     \n",
    "        if string == i: # check whether lst element matches with string passed to it\n",
    "            print(\"Your item is in the list!\")\n",
    "            break"
   ]
  },
  {
   "cell_type": "code",
   "execution_count": 7,
   "metadata": {},
   "outputs": [],
   "source": [
    "lang = [\"python\", \"r\", \"java\", \"pascal\", \"c\", \"javascript\", \"assembley\", \"html\", \"c++\"]"
   ]
  },
  {
   "cell_type": "code",
   "execution_count": 8,
   "metadata": {},
   "outputs": [
    {
     "name": "stdout",
     "output_type": "stream",
     "text": [
      "Your item is in the list!\n"
     ]
    }
   ],
   "source": [
    "checkVal(\"python\",lang)"
   ]
  },
  {
   "cell_type": "code",
   "execution_count": 9,
   "metadata": {},
   "outputs": [
    {
     "name": "stdout",
     "output_type": "stream",
     "text": [
      "Your item is in the list!\n"
     ]
    }
   ],
   "source": [
    "checkVal(\"html\",lang)"
   ]
  },
  {
   "cell_type": "code",
   "execution_count": 10,
   "metadata": {},
   "outputs": [
    {
     "name": "stdout",
     "output_type": "stream",
     "text": [
      "Your item is in the list!\n"
     ]
    }
   ],
   "source": [
    "checkVal(\"c\",lang)"
   ]
  },
  {
   "cell_type": "markdown",
   "metadata": {},
   "source": [
    "## 3. Write a function to shift list item to right n times"
   ]
  },
  {
   "cell_type": "code",
   "execution_count": 14,
   "metadata": {},
   "outputs": [],
   "source": [
    "def shiftItems(lst,n):\n",
    "    for i in range(1,n+1):    \n",
    "        lst.insert(0,lst.pop(-1))  # Take the last item from list and insert it at start\n",
    "    return lst"
   ]
  },
  {
   "cell_type": "code",
   "execution_count": 20,
   "metadata": {},
   "outputs": [],
   "source": [
    "data = [\"python\", \"r\", \"java\", \"pascal\", \"c\", \"javascript\", \"assembley\", \"html\", \"c++\"]"
   ]
  },
  {
   "cell_type": "code",
   "execution_count": 21,
   "metadata": {},
   "outputs": [
    {
     "data": {
      "text/plain": [
       "['assembley',\n",
       " 'html',\n",
       " 'c++',\n",
       " 'python',\n",
       " 'r',\n",
       " 'java',\n",
       " 'pascal',\n",
       " 'c',\n",
       " 'javascript']"
      ]
     },
     "execution_count": 21,
     "metadata": {},
     "output_type": "execute_result"
    }
   ],
   "source": [
    "shiftItems(data.copy(),3)"
   ]
  },
  {
   "cell_type": "code",
   "execution_count": 22,
   "metadata": {},
   "outputs": [
    {
     "data": {
      "text/plain": [
       "['c++',\n",
       " 'python',\n",
       " 'r',\n",
       " 'java',\n",
       " 'pascal',\n",
       " 'c',\n",
       " 'javascript',\n",
       " 'assembley',\n",
       " 'html']"
      ]
     },
     "execution_count": 22,
     "metadata": {},
     "output_type": "execute_result"
    }
   ],
   "source": [
    "shiftItems(data.copy(),1)"
   ]
  },
  {
   "cell_type": "markdown",
   "metadata": {},
   "source": [
    "## 4. Use while loop to get data"
   ]
  },
  {
   "cell_type": "code",
   "execution_count": 30,
   "metadata": {},
   "outputs": [
    {
     "name": "stdout",
     "output_type": "stream",
     "text": [
      "Enter the radius for which you want to find area. Type quit for exit: 3\n",
      "28.259999999999998\n",
      "Enter the radius for which you want to find area. Type quit for exit: 2\n",
      "12.56\n",
      "Enter the radius for which you want to find area. Type quit for exit: 1\n",
      "3.14\n",
      "Enter the radius for which you want to find area. Type quit for exit: quit\n"
     ]
    }
   ],
   "source": [
    "while True:\n",
    "    radius = input(\"Enter the radius for which you want to find area. Type quit for exit: \")\n",
    "    if radius == \"quit\":\n",
    "        break\n",
    "    print(circleArea(float(radius)))"
   ]
  },
  {
   "cell_type": "markdown",
   "metadata": {},
   "source": [
    "## 5. Function with **kwargs:"
   ]
  },
  {
   "cell_type": "code",
   "execution_count": 39,
   "metadata": {},
   "outputs": [],
   "source": [
    "def showDetails(**kwargs):\n",
    "    totalMarks = 0\n",
    "    for i in kwargs[\"marks\"].values():\n",
    "        totalMarks += i\n",
    "    percent = totalMarks/400 *100\n",
    "    mini = min(kwargs[\"marks\"].values())\n",
    "    maxi = max(kwargs[\"marks\"].values())\n",
    "    print(\"\"\"Heloo {pName}\n",
    "    Here is your result for {pClass}.\n",
    "    Your score card is as follows\n",
    "    Class Marks:\n",
    "     Maths : {pMathsMarks}\n",
    "     Physics: {pPhysicsMarks}\n",
    "     Biology: {pBioMarks}\n",
    "     Computer: {pCompMarks}\n",
    "    Total marks are {pTotal}\n",
    "    Percentage is as follows {pPercentage}%\n",
    "    Maximum Marks are in {pMaxMarks}\n",
    "    Minimum Marks are in {pMinMarks}\n",
    "    You are promoted to next class\"\"\".format(pName=kwargs[\"name\"], pClass=kwargs[\"Class\"], pMathsMarks=kwargs[\"marks\"][\"math\"], pPhysicsMarks=kwargs[\"marks\"][\"physics\"],pBioMarks=kwargs[\"marks\"][\"biology\"],pCompMarks=kwargs[\"marks\"][\"computer\"],pTotal=totalMarks,pPercentage=percent,pMaxMarks=maxi,pMinMarks=mini))"
   ]
  },
  {
   "cell_type": "code",
   "execution_count": 40,
   "metadata": {},
   "outputs": [
    {
     "name": "stdout",
     "output_type": "stream",
     "text": [
      "Heloo Ali\n",
      "    Here is your result for AI.\n",
      "    Your score card is as follows\n",
      "    Class Marks:\n",
      "     Maths : 50\n",
      "     Physics: 80\n",
      "     Biology: 90\n",
      "     Computer: 67\n",
      "    Total marks are 287\n",
      "    Percentage is as follows 71.75%\n",
      "    Maximum Marks are in 90\n",
      "    Minimum Marks are in 50\n",
      "    You are promoted to next class\n"
     ]
    }
   ],
   "source": [
    "showDetails(name = \"Ali\", Class = \"AI\", marks = {\"math\" : 50, \"physics\" : 80, \"biology\" : 90, \"computer\" : 67}, date = \"1 Feb 2020\", nextClass = True)"
   ]
  },
  {
   "cell_type": "code",
   "execution_count": null,
   "metadata": {},
   "outputs": [],
   "source": [
    "# I dont know how to access key of min and max value. Kindly responce me how to do it"
   ]
  }
 ],
 "metadata": {
  "kernelspec": {
   "display_name": "Python 3",
   "language": "python",
   "name": "python3"
  },
  "language_info": {
   "codemirror_mode": {
    "name": "ipython",
    "version": 3
   },
   "file_extension": ".py",
   "mimetype": "text/x-python",
   "name": "python",
   "nbconvert_exporter": "python",
   "pygments_lexer": "ipython3",
   "version": "3.7.4"
  }
 },
 "nbformat": 4,
 "nbformat_minor": 2
}
