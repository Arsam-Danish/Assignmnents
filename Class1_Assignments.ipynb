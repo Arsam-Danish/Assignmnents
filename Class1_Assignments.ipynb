{
 "cells": [
  {
   "cell_type": "markdown",
   "metadata": {},
   "source": [
    "# Student Name : Arsam\n",
    "# Roll # PIAIC72676"
   ]
  },
  {
   "cell_type": "markdown",
   "metadata": {},
   "source": [
    "# Code for Formatting Strings"
   ]
  },
  {
   "cell_type": "code",
   "execution_count": 1,
   "metadata": {},
   "outputs": [],
   "source": [
    "name = \"Arsam Danish\"\n",
    "age = 23\n",
    "Class = \"Artificial Intelligence\"\n",
    "university = \"Government College University Faisalabad\""
   ]
  },
  {
   "cell_type": "code",
   "execution_count": 2,
   "metadata": {
    "scrolled": true
   },
   "outputs": [
    {
     "name": "stdout",
     "output_type": "stream",
     "text": [
      "Hello Arsam Danish, Age: 23\n",
      "Your Application for enrolment in Artificial Intelligence class is accepted in Government College University Faisalabad\n"
     ]
    }
   ],
   "source": [
    "print(\"\"\"Hello {pName}, Age: {pAge}\n",
    "Your Application for enrolment in {pClass} class is accepted in {pUniversity}\"\"\".format(pClass = Class, pName = name, pUniversity = university, pAge = age))"
   ]
  }
 ],
 "metadata": {
  "kernelspec": {
   "display_name": "Python 3",
   "language": "python",
   "name": "python3"
  },
  "language_info": {
   "codemirror_mode": {
    "name": "ipython",
    "version": 3
   },
   "file_extension": ".py",
   "mimetype": "text/x-python",
   "name": "python",
   "nbconvert_exporter": "python",
   "pygments_lexer": "ipython3",
   "version": "3.7.4"
  }
 },
 "nbformat": 4,
 "nbformat_minor": 2
}
